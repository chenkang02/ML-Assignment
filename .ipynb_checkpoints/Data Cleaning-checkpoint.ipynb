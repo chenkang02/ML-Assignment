{
 "cells": [
  {
   "cell_type": "code",
   "execution_count": 3,
   "id": "7623351c",
   "metadata": {},
   "outputs": [],
   "source": [
    "import pandas as pd\n",
    "import numpy as np\n",
    "import regex as re\n",
    "from matplotlib import pyplot as plt\n",
    "import seaborn as sns\n",
    "import nltk\n",
    "from collections import Counter\n",
    "from yellowbrick.text import PosTagVisualizer\n",
    "import contractions\n",
    "import os"
   ]
  },
  {
   "cell_type": "code",
   "execution_count": 4,
   "id": "bbfe2a98",
   "metadata": {},
   "outputs": [
    {
     "name": "stdout",
     "output_type": "stream",
     "text": [
      "Requirement already satisfied: contractions in c:\\users\\chen kang\\.conda\\envs\\tensorflowcourse\\lib\\site-packages (0.1.72)\n",
      "Requirement already satisfied: textsearch>=0.0.21 in c:\\users\\chen kang\\.conda\\envs\\tensorflowcourse\\lib\\site-packages (from contractions) (0.0.21)\n",
      "Requirement already satisfied: anyascii in c:\\users\\chen kang\\.conda\\envs\\tensorflowcourse\\lib\\site-packages (from textsearch>=0.0.21->contractions) (0.3.1)\n",
      "Requirement already satisfied: pyahocorasick in c:\\users\\chen kang\\.conda\\envs\\tensorflowcourse\\lib\\site-packages (from textsearch>=0.0.21->contractions) (1.4.4)\n"
     ]
    }
   ],
   "source": []
  },
  {
   "cell_type": "code",
   "execution_count": null,
   "id": "f24128a0",
   "metadata": {},
   "outputs": [],
   "source": [
    "df = pd.read_csv(\"tweetsDataset.csv\", encoding = \"latin-1\")\n",
    "df.head()"
   ]
  },
  {
   "cell_type": "code",
   "execution_count": 6,
   "id": "93323973",
   "metadata": {},
   "outputs": [],
   "source": [
    "df.columns = [\"Sentiment Level\", \"Index\", \"Date\", \"No_Query\", \"Username\", \"Tweet\"]\n",
    "df.drop(\"No_Query\", inplace = True, axis = 1)"
   ]
  },
  {
   "cell_type": "code",
   "execution_count": 18,
   "id": "1cf007cf",
   "metadata": {},
   "outputs": [
    {
     "data": {
      "text/html": [
       "<div>\n",
       "<style scoped>\n",
       "    .dataframe tbody tr th:only-of-type {\n",
       "        vertical-align: middle;\n",
       "    }\n",
       "\n",
       "    .dataframe tbody tr th {\n",
       "        vertical-align: top;\n",
       "    }\n",
       "\n",
       "    .dataframe thead th {\n",
       "        text-align: right;\n",
       "    }\n",
       "</style>\n",
       "<table border=\"1\" class=\"dataframe\">\n",
       "  <thead>\n",
       "    <tr style=\"text-align: right;\">\n",
       "      <th></th>\n",
       "      <th>Tweet</th>\n",
       "      <th>Sentiment Level</th>\n",
       "    </tr>\n",
       "  </thead>\n",
       "  <tbody>\n",
       "    <tr>\n",
       "      <th>0</th>\n",
       "      <td>is upset that he cant update his Facebook by t...</td>\n",
       "      <td>0</td>\n",
       "    </tr>\n",
       "    <tr>\n",
       "      <th>1</th>\n",
       "      <td>Kenichan I dived many times for the ball Manag...</td>\n",
       "      <td>0</td>\n",
       "    </tr>\n",
       "    <tr>\n",
       "      <th>2</th>\n",
       "      <td>my whole body feels itchy and like its on fire</td>\n",
       "      <td>0</td>\n",
       "    </tr>\n",
       "    <tr>\n",
       "      <th>3</th>\n",
       "      <td>nationwideclass no its not behaving at all im ...</td>\n",
       "      <td>0</td>\n",
       "    </tr>\n",
       "    <tr>\n",
       "      <th>4</th>\n",
       "      <td>Kwesidei not the whole crew</td>\n",
       "      <td>0</td>\n",
       "    </tr>\n",
       "    <tr>\n",
       "      <th>...</th>\n",
       "      <td>...</td>\n",
       "      <td>...</td>\n",
       "    </tr>\n",
       "    <tr>\n",
       "      <th>839994</th>\n",
       "      <td>Oficially done with drivers ed stuff Now I jus...</td>\n",
       "      <td>4</td>\n",
       "    </tr>\n",
       "    <tr>\n",
       "      <th>839995</th>\n",
       "      <td>jimhunt Thank YOU for sharing and caring  Glad...</td>\n",
       "      <td>4</td>\n",
       "    </tr>\n",
       "    <tr>\n",
       "      <th>839996</th>\n",
       "      <td>buberzionist ok objection sustained</td>\n",
       "      <td>4</td>\n",
       "    </tr>\n",
       "    <tr>\n",
       "      <th>839997</th>\n",
       "      <td>is twittin while my baby girl sleeps</td>\n",
       "      <td>4</td>\n",
       "    </tr>\n",
       "    <tr>\n",
       "      <th>839998</th>\n",
       "      <td>but with facebook u can share loads more too m...</td>\n",
       "      <td>4</td>\n",
       "    </tr>\n",
       "  </tbody>\n",
       "</table>\n",
       "<p>80000 rows × 2 columns</p>\n",
       "</div>"
      ],
      "text/plain": [
       "                                                    Tweet  Sentiment Level\n",
       "0       is upset that he cant update his Facebook by t...                0\n",
       "1       Kenichan I dived many times for the ball Manag...                0\n",
       "2         my whole body feels itchy and like its on fire                 0\n",
       "3       nationwideclass no its not behaving at all im ...                0\n",
       "4                            Kwesidei not the whole crew                 0\n",
       "...                                                   ...              ...\n",
       "839994  Oficially done with drivers ed stuff Now I jus...                4\n",
       "839995  jimhunt Thank YOU for sharing and caring  Glad...                4\n",
       "839996               buberzionist ok objection sustained                 4\n",
       "839997              is twittin while my baby girl sleeps                 4\n",
       "839998  but with facebook u can share loads more too m...                4\n",
       "\n",
       "[80000 rows x 2 columns]"
      ]
     },
     "execution_count": 18,
     "metadata": {},
     "output_type": "execute_result"
    }
   ],
   "source": [
    "df"
   ]
  },
  {
   "cell_type": "code",
   "execution_count": 8,
   "id": "d1c3e8ce",
   "metadata": {},
   "outputs": [],
   "source": [
    "df_text = df[\"Tweet\"]\n",
    "df_class = df[\"Sentiment Level\"]"
   ]
  },
  {
   "cell_type": "code",
   "execution_count": 9,
   "id": "4b801c14",
   "metadata": {},
   "outputs": [
    {
     "name": "stdout",
     "output_type": "stream",
     "text": [
      "(1599999,)\n"
     ]
    }
   ],
   "source": [
    "print(df_text.shape)"
   ]
  },
  {
   "cell_type": "code",
   "execution_count": 10,
   "id": "e53e4401",
   "metadata": {},
   "outputs": [],
   "source": [
    "df = pd.concat([df_text, df_class], axis = 1)\n",
    "df_negative = df.iloc[0:40000]\n",
    "df_positive = df.loc[df[\"Sentiment Level\"] == 4]\n",
    "df_positive = df_positive.iloc[0:40000]"
   ]
  },
  {
   "cell_type": "code",
   "execution_count": 11,
   "id": "92b8dba0",
   "metadata": {},
   "outputs": [
    {
     "data": {
      "text/html": [
       "<div>\n",
       "<style scoped>\n",
       "    .dataframe tbody tr th:only-of-type {\n",
       "        vertical-align: middle;\n",
       "    }\n",
       "\n",
       "    .dataframe tbody tr th {\n",
       "        vertical-align: top;\n",
       "    }\n",
       "\n",
       "    .dataframe thead th {\n",
       "        text-align: right;\n",
       "    }\n",
       "</style>\n",
       "<table border=\"1\" class=\"dataframe\">\n",
       "  <thead>\n",
       "    <tr style=\"text-align: right;\">\n",
       "      <th></th>\n",
       "      <th>Tweet</th>\n",
       "      <th>Sentiment Level</th>\n",
       "    </tr>\n",
       "  </thead>\n",
       "  <tbody>\n",
       "    <tr>\n",
       "      <th>0</th>\n",
       "      <td>is upset that he can't update his Facebook by ...</td>\n",
       "      <td>0</td>\n",
       "    </tr>\n",
       "    <tr>\n",
       "      <th>1</th>\n",
       "      <td>@Kenichan I dived many times for the ball. Man...</td>\n",
       "      <td>0</td>\n",
       "    </tr>\n",
       "    <tr>\n",
       "      <th>2</th>\n",
       "      <td>my whole body feels itchy and like its on fire</td>\n",
       "      <td>0</td>\n",
       "    </tr>\n",
       "    <tr>\n",
       "      <th>3</th>\n",
       "      <td>@nationwideclass no, it's not behaving at all....</td>\n",
       "      <td>0</td>\n",
       "    </tr>\n",
       "    <tr>\n",
       "      <th>4</th>\n",
       "      <td>@Kwesidei not the whole crew</td>\n",
       "      <td>0</td>\n",
       "    </tr>\n",
       "    <tr>\n",
       "      <th>...</th>\n",
       "      <td>...</td>\n",
       "      <td>...</td>\n",
       "    </tr>\n",
       "    <tr>\n",
       "      <th>839994</th>\n",
       "      <td>Oficially done with drivers ed stuff. Now I ju...</td>\n",
       "      <td>4</td>\n",
       "    </tr>\n",
       "    <tr>\n",
       "      <th>839995</th>\n",
       "      <td>@jimhunt Thank YOU for sharing and caring!  Gl...</td>\n",
       "      <td>4</td>\n",
       "    </tr>\n",
       "    <tr>\n",
       "      <th>839996</th>\n",
       "      <td>@buberzionist ok objection sustained</td>\n",
       "      <td>4</td>\n",
       "    </tr>\n",
       "    <tr>\n",
       "      <th>839997</th>\n",
       "      <td>is twittin' while my baby girl sleeps</td>\n",
       "      <td>4</td>\n",
       "    </tr>\n",
       "    <tr>\n",
       "      <th>839998</th>\n",
       "      <td>but with facebook u can share loads more too.....</td>\n",
       "      <td>4</td>\n",
       "    </tr>\n",
       "  </tbody>\n",
       "</table>\n",
       "<p>80000 rows × 2 columns</p>\n",
       "</div>"
      ],
      "text/plain": [
       "                                                    Tweet  Sentiment Level\n",
       "0       is upset that he can't update his Facebook by ...                0\n",
       "1       @Kenichan I dived many times for the ball. Man...                0\n",
       "2         my whole body feels itchy and like its on fire                 0\n",
       "3       @nationwideclass no, it's not behaving at all....                0\n",
       "4                           @Kwesidei not the whole crew                 0\n",
       "...                                                   ...              ...\n",
       "839994  Oficially done with drivers ed stuff. Now I ju...                4\n",
       "839995  @jimhunt Thank YOU for sharing and caring!  Gl...                4\n",
       "839996              @buberzionist ok objection sustained                 4\n",
       "839997             is twittin' while my baby girl sleeps                 4\n",
       "839998  but with facebook u can share loads more too.....                4\n",
       "\n",
       "[80000 rows x 2 columns]"
      ]
     },
     "execution_count": 11,
     "metadata": {},
     "output_type": "execute_result"
    }
   ],
   "source": [
    "df = pd.concat([df_negative, df_positive], axis = 0)\n",
    "df"
   ]
  },
  {
   "cell_type": "code",
   "execution_count": 12,
   "id": "fc7b73a2",
   "metadata": {},
   "outputs": [
    {
     "data": {
      "text/plain": [
       "(80000, 2)"
      ]
     },
     "execution_count": 12,
     "metadata": {},
     "output_type": "execute_result"
    }
   ],
   "source": [
    "df.shape"
   ]
  },
  {
   "cell_type": "code",
   "execution_count": 13,
   "id": "856cb0d2",
   "metadata": {},
   "outputs": [
    {
     "name": "stderr",
     "output_type": "stream",
     "text": [
      "C:\\Users\\Chen Kang\\AppData\\Local\\Temp\\ipykernel_4840\\2144257823.py:2: FutureWarning: The default value of regex will change from True to False in a future version.\n",
      "  df[\"Tweet\"] = df[\"Tweet\"].str.replace(r'[^\\w\\s]+', '')\n",
      "C:\\Users\\Chen Kang\\AppData\\Local\\Temp\\ipykernel_4840\\2144257823.py:3: FutureWarning: The default value of regex will change from True to False in a future version.\n",
      "  df[\"Tweet\"] = df[\"Tweet\"].str.replace(\"^@[a-z0-9A-Z]+\", '')\n"
     ]
    }
   ],
   "source": [
    "#removing punctuation \n",
    "df[\"Tweet\"] = df[\"Tweet\"].str.replace(r'[^\\w\\s]+', '')\n",
    "df[\"Tweet\"] = df[\"Tweet\"].str.replace(\"^@[a-z0-9A-Z]+\", '')\n"
   ]
  },
  {
   "cell_type": "code",
   "execution_count": 14,
   "id": "fdff165f",
   "metadata": {},
   "outputs": [
    {
     "data": {
      "text/html": [
       "<div>\n",
       "<style scoped>\n",
       "    .dataframe tbody tr th:only-of-type {\n",
       "        vertical-align: middle;\n",
       "    }\n",
       "\n",
       "    .dataframe tbody tr th {\n",
       "        vertical-align: top;\n",
       "    }\n",
       "\n",
       "    .dataframe thead th {\n",
       "        text-align: right;\n",
       "    }\n",
       "</style>\n",
       "<table border=\"1\" class=\"dataframe\">\n",
       "  <thead>\n",
       "    <tr style=\"text-align: right;\">\n",
       "      <th></th>\n",
       "      <th>Tweet</th>\n",
       "      <th>Sentiment Level</th>\n",
       "    </tr>\n",
       "  </thead>\n",
       "  <tbody>\n",
       "    <tr>\n",
       "      <th>0</th>\n",
       "      <td>is upset that he cant update his Facebook by t...</td>\n",
       "      <td>0</td>\n",
       "    </tr>\n",
       "    <tr>\n",
       "      <th>1</th>\n",
       "      <td>Kenichan I dived many times for the ball Manag...</td>\n",
       "      <td>0</td>\n",
       "    </tr>\n",
       "    <tr>\n",
       "      <th>2</th>\n",
       "      <td>my whole body feels itchy and like its on fire</td>\n",
       "      <td>0</td>\n",
       "    </tr>\n",
       "    <tr>\n",
       "      <th>3</th>\n",
       "      <td>nationwideclass no its not behaving at all im ...</td>\n",
       "      <td>0</td>\n",
       "    </tr>\n",
       "    <tr>\n",
       "      <th>4</th>\n",
       "      <td>Kwesidei not the whole crew</td>\n",
       "      <td>0</td>\n",
       "    </tr>\n",
       "    <tr>\n",
       "      <th>...</th>\n",
       "      <td>...</td>\n",
       "      <td>...</td>\n",
       "    </tr>\n",
       "    <tr>\n",
       "      <th>839994</th>\n",
       "      <td>Oficially done with drivers ed stuff Now I jus...</td>\n",
       "      <td>4</td>\n",
       "    </tr>\n",
       "    <tr>\n",
       "      <th>839995</th>\n",
       "      <td>jimhunt Thank YOU for sharing and caring  Glad...</td>\n",
       "      <td>4</td>\n",
       "    </tr>\n",
       "    <tr>\n",
       "      <th>839996</th>\n",
       "      <td>buberzionist ok objection sustained</td>\n",
       "      <td>4</td>\n",
       "    </tr>\n",
       "    <tr>\n",
       "      <th>839997</th>\n",
       "      <td>is twittin while my baby girl sleeps</td>\n",
       "      <td>4</td>\n",
       "    </tr>\n",
       "    <tr>\n",
       "      <th>839998</th>\n",
       "      <td>but with facebook u can share loads more too m...</td>\n",
       "      <td>4</td>\n",
       "    </tr>\n",
       "  </tbody>\n",
       "</table>\n",
       "<p>80000 rows × 2 columns</p>\n",
       "</div>"
      ],
      "text/plain": [
       "                                                    Tweet  Sentiment Level\n",
       "0       is upset that he cant update his Facebook by t...                0\n",
       "1       Kenichan I dived many times for the ball Manag...                0\n",
       "2         my whole body feels itchy and like its on fire                 0\n",
       "3       nationwideclass no its not behaving at all im ...                0\n",
       "4                            Kwesidei not the whole crew                 0\n",
       "...                                                   ...              ...\n",
       "839994  Oficially done with drivers ed stuff Now I jus...                4\n",
       "839995  jimhunt Thank YOU for sharing and caring  Glad...                4\n",
       "839996               buberzionist ok objection sustained                 4\n",
       "839997              is twittin while my baby girl sleeps                 4\n",
       "839998  but with facebook u can share loads more too m...                4\n",
       "\n",
       "[80000 rows x 2 columns]"
      ]
     },
     "execution_count": 14,
     "metadata": {},
     "output_type": "execute_result"
    }
   ],
   "source": [
    "emoj = re.compile(\"[\"\n",
    "    u\"\\U0001F600-\\U0001F64F\"  # emoticons\n",
    "    u\"\\U0001F300-\\U0001F5FF\"  # symbols & pictographs\n",
    "    u\"\\U0001F680-\\U0001F6FF\"  # transport & map symbols\n",
    "    u\"\\U0001F1E0-\\U0001F1FF\"  # flags (iOS)\n",
    "    u\"\\U00002500-\\U00002BEF\"  # chinese char\n",
    "    u\"\\U00002702-\\U000027B0\"\n",
    "    u\"\\U00002702-\\U000027B0\"\n",
    "    u\"\\U000024C2-\\U0001F251\"\n",
    "    u\"\\U0001f926-\\U0001f937\"\n",
    "    u\"\\U00010000-\\U0010ffff\"\n",
    "    u\"\\u2640-\\u2642\" \n",
    "    u\"\\u2600-\\u2B55\"\n",
    "    u\"\\u200d\"\n",
    "    u\"\\u23cf\"\n",
    "    u\"\\u23e9\"\n",
    "    u\"\\u231a\"\n",
    "    u\"\\ufe0f\"  # dingbats\n",
    "    u\"\\u3030\"\n",
    "    \"]+\", re.UNICODE)\n",
    "\n",
    "df[\"Tweet\"] = df[\"Tweet\"].apply(lambda x : re.sub(emoj, \"\", x))\n",
    "df[\"Tweet\"] = df[\"Tweet\"].apply(lambda x : x.encode(\"ascii\", \"ignore\").decode())\n",
    "\n",
    "df"
   ]
  },
  {
   "cell_type": "code",
   "execution_count": 15,
   "id": "438a9a0f",
   "metadata": {},
   "outputs": [
    {
     "data": {
      "text/html": [
       "<div>\n",
       "<style scoped>\n",
       "    .dataframe tbody tr th:only-of-type {\n",
       "        vertical-align: middle;\n",
       "    }\n",
       "\n",
       "    .dataframe tbody tr th {\n",
       "        vertical-align: top;\n",
       "    }\n",
       "\n",
       "    .dataframe thead th {\n",
       "        text-align: right;\n",
       "    }\n",
       "</style>\n",
       "<table border=\"1\" class=\"dataframe\">\n",
       "  <thead>\n",
       "    <tr style=\"text-align: right;\">\n",
       "      <th></th>\n",
       "      <th>Tweet</th>\n",
       "      <th>Sentiment Level</th>\n",
       "    </tr>\n",
       "  </thead>\n",
       "  <tbody>\n",
       "    <tr>\n",
       "      <th>0</th>\n",
       "      <td>True</td>\n",
       "      <td>True</td>\n",
       "    </tr>\n",
       "    <tr>\n",
       "      <th>1</th>\n",
       "      <td>True</td>\n",
       "      <td>True</td>\n",
       "    </tr>\n",
       "    <tr>\n",
       "      <th>2</th>\n",
       "      <td>True</td>\n",
       "      <td>True</td>\n",
       "    </tr>\n",
       "    <tr>\n",
       "      <th>3</th>\n",
       "      <td>True</td>\n",
       "      <td>True</td>\n",
       "    </tr>\n",
       "    <tr>\n",
       "      <th>4</th>\n",
       "      <td>True</td>\n",
       "      <td>True</td>\n",
       "    </tr>\n",
       "    <tr>\n",
       "      <th>...</th>\n",
       "      <td>...</td>\n",
       "      <td>...</td>\n",
       "    </tr>\n",
       "    <tr>\n",
       "      <th>839994</th>\n",
       "      <td>True</td>\n",
       "      <td>True</td>\n",
       "    </tr>\n",
       "    <tr>\n",
       "      <th>839995</th>\n",
       "      <td>True</td>\n",
       "      <td>True</td>\n",
       "    </tr>\n",
       "    <tr>\n",
       "      <th>839996</th>\n",
       "      <td>True</td>\n",
       "      <td>True</td>\n",
       "    </tr>\n",
       "    <tr>\n",
       "      <th>839997</th>\n",
       "      <td>True</td>\n",
       "      <td>True</td>\n",
       "    </tr>\n",
       "    <tr>\n",
       "      <th>839998</th>\n",
       "      <td>True</td>\n",
       "      <td>True</td>\n",
       "    </tr>\n",
       "  </tbody>\n",
       "</table>\n",
       "<p>80000 rows × 2 columns</p>\n",
       "</div>"
      ],
      "text/plain": [
       "        Tweet  Sentiment Level\n",
       "0        True             True\n",
       "1        True             True\n",
       "2        True             True\n",
       "3        True             True\n",
       "4        True             True\n",
       "...       ...              ...\n",
       "839994   True             True\n",
       "839995   True             True\n",
       "839996   True             True\n",
       "839997   True             True\n",
       "839998   True             True\n",
       "\n",
       "[80000 rows x 2 columns]"
      ]
     },
     "execution_count": 15,
     "metadata": {},
     "output_type": "execute_result"
    }
   ],
   "source": [
    "df.notna()"
   ]
  },
  {
   "cell_type": "code",
   "execution_count": 22,
   "id": "8dcee025",
   "metadata": {},
   "outputs": [
    {
     "name": "stdout",
     "output_type": "stream",
     "text": [
      "159\n"
     ]
    }
   ],
   "source": [
    "max = 0;\n",
    "\n",
    "for rows in df[\"Tweet\"]: \n",
    "    if len(rows) > max:\n",
    "        max = len(rows)\n",
    "        \n",
    "print(max)"
   ]
  },
  {
   "cell_type": "code",
   "execution_count": 21,
   "id": "01cf6c8e",
   "metadata": {},
   "outputs": [
    {
     "data": {
      "text/html": [
       "<div>\n",
       "<style scoped>\n",
       "    .dataframe tbody tr th:only-of-type {\n",
       "        vertical-align: middle;\n",
       "    }\n",
       "\n",
       "    .dataframe tbody tr th {\n",
       "        vertical-align: top;\n",
       "    }\n",
       "\n",
       "    .dataframe thead th {\n",
       "        text-align: right;\n",
       "    }\n",
       "</style>\n",
       "<table border=\"1\" class=\"dataframe\">\n",
       "  <thead>\n",
       "    <tr style=\"text-align: right;\">\n",
       "      <th></th>\n",
       "      <th>Tweet</th>\n",
       "      <th>Sentiment Level</th>\n",
       "      <th>Tweet_tokenize</th>\n",
       "    </tr>\n",
       "  </thead>\n",
       "  <tbody>\n",
       "    <tr>\n",
       "      <th>0</th>\n",
       "      <td>is upset that he cant update his Facebook by t...</td>\n",
       "      <td>0</td>\n",
       "      <td>[is, upset, that, he, cant, update, his, Faceb...</td>\n",
       "    </tr>\n",
       "    <tr>\n",
       "      <th>1</th>\n",
       "      <td>Kenichan I dived many times for the ball Manag...</td>\n",
       "      <td>0</td>\n",
       "      <td>[Kenichan, I, dived, many, times, for, the, ba...</td>\n",
       "    </tr>\n",
       "    <tr>\n",
       "      <th>2</th>\n",
       "      <td>my whole body feels itchy and like its on fire</td>\n",
       "      <td>0</td>\n",
       "      <td>[my, whole, body, feels, itchy, and, like, its...</td>\n",
       "    </tr>\n",
       "    <tr>\n",
       "      <th>3</th>\n",
       "      <td>nationwideclass no its not behaving at all im ...</td>\n",
       "      <td>0</td>\n",
       "      <td>[nationwideclass, no, its, not, behaving, at, ...</td>\n",
       "    </tr>\n",
       "    <tr>\n",
       "      <th>4</th>\n",
       "      <td>Kwesidei not the whole crew</td>\n",
       "      <td>0</td>\n",
       "      <td>[Kwesidei, not, the, whole, crew]</td>\n",
       "    </tr>\n",
       "  </tbody>\n",
       "</table>\n",
       "</div>"
      ],
      "text/plain": [
       "                                               Tweet  Sentiment Level  \\\n",
       "0  is upset that he cant update his Facebook by t...                0   \n",
       "1  Kenichan I dived many times for the ball Manag...                0   \n",
       "2    my whole body feels itchy and like its on fire                 0   \n",
       "3  nationwideclass no its not behaving at all im ...                0   \n",
       "4                       Kwesidei not the whole crew                 0   \n",
       "\n",
       "                                      Tweet_tokenize  \n",
       "0  [is, upset, that, he, cant, update, his, Faceb...  \n",
       "1  [Kenichan, I, dived, many, times, for, the, ba...  \n",
       "2  [my, whole, body, feels, itchy, and, like, its...  \n",
       "3  [nationwideclass, no, its, not, behaving, at, ...  \n",
       "4                  [Kwesidei, not, the, whole, crew]  "
      ]
     },
     "execution_count": 21,
     "metadata": {},
     "output_type": "execute_result"
    }
   ],
   "source": [
    "from nltk.tokenize import word_tokenize\n",
    "df[\"Tweet_tokenize\"] = df[\"Tweet\"].apply(word_tokenize)\n",
    "\n",
    "df.head()"
   ]
  },
  {
   "cell_type": "code",
   "execution_count": 20,
   "id": "e78722da",
   "metadata": {},
   "outputs": [
    {
     "name": "stderr",
     "output_type": "stream",
     "text": [
      "[nltk_data] Downloading package punkt to C:\\Users\\Chen\n",
      "[nltk_data]     Kang\\AppData\\Roaming\\nltk_data...\n",
      "[nltk_data]   Unzipping tokenizers\\punkt.zip.\n"
     ]
    },
    {
     "data": {
      "text/plain": [
       "True"
      ]
     },
     "execution_count": 20,
     "metadata": {},
     "output_type": "execute_result"
    }
   ],
   "source": [
    "from nltk.corpus import stopwords \n",
    "stop_words = set(stopwords.words('english'))\n",
    "\n"
   ]
  },
  {
   "cell_type": "code",
   "execution_count": null,
   "id": "21a20649",
   "metadata": {},
   "outputs": [],
   "source": []
  }
 ],
 "metadata": {
  "kernelspec": {
   "display_name": "Python 3 (ipykernel)",
   "language": "python",
   "name": "python3"
  },
  "language_info": {
   "codemirror_mode": {
    "name": "ipython",
    "version": 3
   },
   "file_extension": ".py",
   "mimetype": "text/x-python",
   "name": "python",
   "nbconvert_exporter": "python",
   "pygments_lexer": "ipython3",
   "version": "3.9.12"
  }
 },
 "nbformat": 4,
 "nbformat_minor": 5
}
