{
 "cells": [
  {
   "cell_type": "code",
   "execution_count": 1,
   "id": "5139a583",
   "metadata": {},
   "outputs": [],
   "source": [
    "import tensorflow as tf\n",
    "import numpy as np\n",
    "import pandas as pd\n",
    "import sklearn as sk "
   ]
  },
  {
   "cell_type": "code",
   "execution_count": 2,
   "id": "c8f0a084",
   "metadata": {},
   "outputs": [
    {
     "name": "stderr",
     "output_type": "stream",
     "text": [
      "C:\\Users\\CHEN KANG\\AppData\\Local\\Temp\\ipykernel_34748\\246959809.py:1: DtypeWarning: Columns (1) have mixed types. Specify dtype option on import or set low_memory=False.\n",
      "  df = pd.read_csv(\"L:\\\\ML-Assignment\\\\training_data.csv\")\n"
     ]
    },
    {
     "data": {
      "text/html": [
       "<div>\n",
       "<style scoped>\n",
       "    .dataframe tbody tr th:only-of-type {\n",
       "        vertical-align: middle;\n",
       "    }\n",
       "\n",
       "    .dataframe tbody tr th {\n",
       "        vertical-align: top;\n",
       "    }\n",
       "\n",
       "    .dataframe thead th {\n",
       "        text-align: right;\n",
       "    }\n",
       "</style>\n",
       "<table border=\"1\" class=\"dataframe\">\n",
       "  <thead>\n",
       "    <tr style=\"text-align: right;\">\n",
       "      <th></th>\n",
       "      <th>joined_text</th>\n",
       "      <th>class</th>\n",
       "    </tr>\n",
       "  </thead>\n",
       "  <tbody>\n",
       "    <tr>\n",
       "      <th>0</th>\n",
       "      <td>is upset that he can not update his Facebook b...</td>\n",
       "      <td>0</td>\n",
       "    </tr>\n",
       "    <tr>\n",
       "      <th>1</th>\n",
       "      <td>I dived many times for the ball Managed to sav...</td>\n",
       "      <td>0</td>\n",
       "    </tr>\n",
       "    <tr>\n",
       "      <th>2</th>\n",
       "      <td>my whole body feels itchy and like its on fire</td>\n",
       "      <td>0</td>\n",
       "    </tr>\n",
       "    <tr>\n",
       "      <th>3</th>\n",
       "      <td>no its not behaving at all i am mad why am i h...</td>\n",
       "      <td>0</td>\n",
       "    </tr>\n",
       "    <tr>\n",
       "      <th>4</th>\n",
       "      <td>not the whole crew</td>\n",
       "      <td>0</td>\n",
       "    </tr>\n",
       "    <tr>\n",
       "      <th>...</th>\n",
       "      <td>...</td>\n",
       "      <td>...</td>\n",
       "    </tr>\n",
       "    <tr>\n",
       "      <th>1828592</th>\n",
       "      <td>I did something today I went sledding with my ...</td>\n",
       "      <td>non-suicide</td>\n",
       "    </tr>\n",
       "    <tr>\n",
       "      <th>1828593</th>\n",
       "      <td>If you do not like rock then your not going to...</td>\n",
       "      <td>non-suicide</td>\n",
       "    </tr>\n",
       "    <tr>\n",
       "      <th>1828594</th>\n",
       "      <td>You how you can tell i have so many friends an...</td>\n",
       "      <td>non-suicide</td>\n",
       "    </tr>\n",
       "    <tr>\n",
       "      <th>1828595</th>\n",
       "      <td>pee probably tastes like salty tea can someone...</td>\n",
       "      <td>non-suicide</td>\n",
       "    </tr>\n",
       "    <tr>\n",
       "      <th>1828596</th>\n",
       "      <td>I still have not beaten the first boss in Holl...</td>\n",
       "      <td>non-suicide</td>\n",
       "    </tr>\n",
       "  </tbody>\n",
       "</table>\n",
       "<p>1828597 rows × 2 columns</p>\n",
       "</div>"
      ],
      "text/plain": [
       "                                               joined_text        class\n",
       "0        is upset that he can not update his Facebook b...            0\n",
       "1        I dived many times for the ball Managed to sav...            0\n",
       "2           my whole body feels itchy and like its on fire            0\n",
       "3        no its not behaving at all i am mad why am i h...            0\n",
       "4                                       not the whole crew            0\n",
       "...                                                    ...          ...\n",
       "1828592  I did something today I went sledding with my ...  non-suicide\n",
       "1828593  If you do not like rock then your not going to...  non-suicide\n",
       "1828594  You how you can tell i have so many friends an...  non-suicide\n",
       "1828595  pee probably tastes like salty tea can someone...  non-suicide\n",
       "1828596  I still have not beaten the first boss in Holl...  non-suicide\n",
       "\n",
       "[1828597 rows x 2 columns]"
      ]
     },
     "execution_count": 2,
     "metadata": {},
     "output_type": "execute_result"
    }
   ],
   "source": [
    "df = pd.read_csv(\"L:\\\\ML-Assignment\\\\training_data.csv\")\n",
    "df.astype({\"joined_text\" : \"string\" , \"class\" : \"string\" })"
   ]
  },
  {
   "cell_type": "code",
   "execution_count": 3,
   "id": "2e349dfa",
   "metadata": {},
   "outputs": [],
   "source": [
    "#split the data into 2 classes according to the sentiment levels \n",
    "splits = list(df.groupby(\"class\"))\n",
    "\n",
    "\n",
    "negative = splits[0][1]\n",
    "positive1 = splits[1][1]\n",
    "positive2 = splits[2][1]\n",
    "suicidal = splits[4][1]\n",
    "\n",
    "positive = pd.concat([positive1, positive2], axis = 0)"
   ]
  },
  {
   "cell_type": "code",
   "execution_count": 4,
   "id": "fcd8be50",
   "metadata": {},
   "outputs": [
    {
     "data": {
      "text/html": [
       "<div>\n",
       "<style scoped>\n",
       "    .dataframe tbody tr th:only-of-type {\n",
       "        vertical-align: middle;\n",
       "    }\n",
       "\n",
       "    .dataframe tbody tr th {\n",
       "        vertical-align: top;\n",
       "    }\n",
       "\n",
       "    .dataframe thead th {\n",
       "        text-align: right;\n",
       "    }\n",
       "</style>\n",
       "<table border=\"1\" class=\"dataframe\">\n",
       "  <thead>\n",
       "    <tr style=\"text-align: right;\">\n",
       "      <th></th>\n",
       "      <th>joined_text</th>\n",
       "      <th>class</th>\n",
       "    </tr>\n",
       "  </thead>\n",
       "  <tbody>\n",
       "    <tr>\n",
       "      <th>1691217</th>\n",
       "      <td>I should be grateful for this lifeI know I sho...</td>\n",
       "      <td>suicide</td>\n",
       "    </tr>\n",
       "    <tr>\n",
       "      <th>1680230</th>\n",
       "      <td>Even on a normal good day I still think about ...</td>\n",
       "      <td>suicide</td>\n",
       "    </tr>\n",
       "    <tr>\n",
       "      <th>1641348</th>\n",
       "      <td>My dad killed himself last nightI feel numb an...</td>\n",
       "      <td>suicide</td>\n",
       "    </tr>\n",
       "    <tr>\n",
       "      <th>1712103</th>\n",
       "      <td>Is this legitIn comments is the link If I boug...</td>\n",
       "      <td>suicide</td>\n",
       "    </tr>\n",
       "    <tr>\n",
       "      <th>1626613</th>\n",
       "      <td>damaged the wall with a knife I really think I...</td>\n",
       "      <td>suicide</td>\n",
       "    </tr>\n",
       "    <tr>\n",
       "      <th>...</th>\n",
       "      <td>...</td>\n",
       "      <td>...</td>\n",
       "    </tr>\n",
       "    <tr>\n",
       "      <th>1604488</th>\n",
       "      <td>Feeling SuicidalHello everyone i did not know ...</td>\n",
       "      <td>suicide</td>\n",
       "    </tr>\n",
       "    <tr>\n",
       "      <th>1665846</th>\n",
       "      <td>I intend toOver a year ago I made an irreversi...</td>\n",
       "      <td>suicide</td>\n",
       "    </tr>\n",
       "    <tr>\n",
       "      <th>1646654</th>\n",
       "      <td>at an impassejust when things started to look ...</td>\n",
       "      <td>suicide</td>\n",
       "    </tr>\n",
       "    <tr>\n",
       "      <th>1711989</th>\n",
       "      <td>just really really want to die alreadyso over ...</td>\n",
       "      <td>suicide</td>\n",
       "    </tr>\n",
       "    <tr>\n",
       "      <th>1681087</th>\n",
       "      <td>Incest STD Psychosis depressionIll keep this s...</td>\n",
       "      <td>suicide</td>\n",
       "    </tr>\n",
       "  </tbody>\n",
       "</table>\n",
       "<p>116031 rows × 2 columns</p>\n",
       "</div>"
      ],
      "text/plain": [
       "                                               joined_text    class\n",
       "1691217  I should be grateful for this lifeI know I sho...  suicide\n",
       "1680230  Even on a normal good day I still think about ...  suicide\n",
       "1641348  My dad killed himself last nightI feel numb an...  suicide\n",
       "1712103  Is this legitIn comments is the link If I boug...  suicide\n",
       "1626613  damaged the wall with a knife I really think I...  suicide\n",
       "...                                                    ...      ...\n",
       "1604488  Feeling SuicidalHello everyone i did not know ...  suicide\n",
       "1665846  I intend toOver a year ago I made an irreversi...  suicide\n",
       "1646654  at an impassejust when things started to look ...  suicide\n",
       "1711989  just really really want to die alreadyso over ...  suicide\n",
       "1681087  Incest STD Psychosis depressionIll keep this s...  suicide\n",
       "\n",
       "[116031 rows x 2 columns]"
      ]
     },
     "execution_count": 4,
     "metadata": {},
     "output_type": "execute_result"
    }
   ],
   "source": [
    "positive.sample(frac = 1)\n",
    "negative.sample(frac = 1)\n",
    "suicidal.sample(frac = 1)"
   ]
  },
  {
   "cell_type": "code",
   "execution_count": 5,
   "id": "12d1c6e8",
   "metadata": {},
   "outputs": [],
   "source": [
    "#randomly select 50000 features from each class \n",
    "import random as rand\n",
    "\n",
    "number = rand.randint(0,500000)\n",
    "new_positive = positive[number : number + 5000]\n",
    "\n",
    "number = rand.randint(0,500000)\n",
    "new_negative = negative[number: number + 5000]\n",
    "\n",
    "number = rand.randint(0,75000)\n",
    "new_suicidal = suicidal[number: number+ 5000]"
   ]
  },
  {
   "cell_type": "code",
   "execution_count": 6,
   "id": "d6a72cd2",
   "metadata": {},
   "outputs": [],
   "source": [
    "#concat 3 classes into 1 dataframe\n",
    "df_concat = pd.concat([new_positive, new_negative, new_suicidal], axis = 0)\n",
    "\n",
    "#shuffle the sequence of the dataframe\n",
    "df_concat = df_concat.sample(frac = 1)"
   ]
  },
  {
   "cell_type": "code",
   "execution_count": null,
   "id": "9cde1629",
   "metadata": {},
   "outputs": [],
   "source": []
  },
  {
   "cell_type": "code",
   "execution_count": 7,
   "id": "1caccfcf",
   "metadata": {},
   "outputs": [],
   "source": [
    "x_val = df_concat[\"joined_text\"]\n",
    "y_val = df_concat[\"class\"]"
   ]
  },
  {
   "cell_type": "code",
   "execution_count": 8,
   "id": "2b2117b0",
   "metadata": {},
   "outputs": [],
   "source": [
    "np_x_val = np.asarray(x_val.to_frame().to_numpy(dtype=np.string_).astype(np.string_))\n",
    "np_y_val = np.asarray(y_val.to_frame().to_numpy(dtype=np.string_).astype(np.string_))"
   ]
  },
  {
   "cell_type": "code",
   "execution_count": 9,
   "id": "5d9b4f2e",
   "metadata": {},
   "outputs": [],
   "source": [
    "def create_label(y):\n",
    "    counter = 0\n",
    "    result = np.array([[]])\n",
    "    if y[0] == np.string_(\"0\"):\n",
    "        result = np.array([[1,0,0]])\n",
    "    elif y[0] == np.string_(\"4\"):\n",
    "        result = np.array([[0,1,0]])\n",
    "    elif y[0] == np.string_(\"suicide\"):\n",
    "        result = np.array([[0,0,1]])\n",
    "    \n",
    "    for i in y: \n",
    "        if counter > 0:\n",
    "            if i == np.string_(\"0\"):\n",
    "                result = np.append(result, np.array([[1,0,0]]), axis = 0)\n",
    "            elif i == np.string_(\"4\"):\n",
    "                result = np.append(result, np.array([[0,1,0]]), axis = 0)\n",
    "            elif i == np.string_(\"suicide\"):\n",
    "                result = np.append(result, np.array([[0,0,1]]), axis = 0)\n",
    "        counter+=1\n",
    "    \n",
    "\n",
    "    return result\n",
    "\n",
    "np_y_val = create_label(np_y_val)"
   ]
  },
  {
   "cell_type": "code",
   "execution_count": 21,
   "id": "17bf712e",
   "metadata": {},
   "outputs": [],
   "source": [
    "model_dir = \"L:\\\\ML-Assignment\\\\Model\\\\Model_06\""
   ]
  },
  {
   "cell_type": "code",
   "execution_count": 22,
   "id": "91c12e10",
   "metadata": {},
   "outputs": [],
   "source": [
    "from tensorflow.keras import Input\n",
    "from tensorflow.keras.models import Sequential, load_model \n",
    "from tensorflow.keras.layers import Dense, TextVectorization, LSTM\n",
    "from sklearn.metrics import accuracy_score"
   ]
  },
  {
   "cell_type": "code",
   "execution_count": 1,
   "id": "6af41f8a",
   "metadata": {},
   "outputs": [
    {
     "ename": "NameError",
     "evalue": "name 'load_model' is not defined",
     "output_type": "error",
     "traceback": [
      "\u001b[1;31m---------------------------------------------------------------------------\u001b[0m",
      "\u001b[1;31mNameError\u001b[0m                                 Traceback (most recent call last)",
      "Input \u001b[1;32mIn [1]\u001b[0m, in \u001b[0;36m<cell line: 1>\u001b[1;34m()\u001b[0m\n\u001b[1;32m----> 1\u001b[0m model \u001b[38;5;241m=\u001b[39m \u001b[43mload_model\u001b[49m(model_dir)\n\u001b[0;32m      3\u001b[0m \u001b[38;5;28mprint\u001b[39m(\u001b[38;5;124m\"\u001b[39m\u001b[38;5;124mLoaded\u001b[39m\u001b[38;5;124m\"\u001b[39m)\n",
      "\u001b[1;31mNameError\u001b[0m: name 'load_model' is not defined"
     ]
    }
   ],
   "source": [
    "model = load_model(model_dir)\n",
    "\n",
    "print(\"Loaded\")"
   ]
  },
  {
   "cell_type": "code",
   "execution_count": 13,
   "id": "ce77b668",
   "metadata": {},
   "outputs": [
    {
     "name": "stdout",
     "output_type": "stream",
     "text": [
      "469/469 [==============================] - 82s 158ms/step\n"
     ]
    }
   ],
   "source": [
    "pred = model.predict(np_x_val)"
   ]
  },
  {
   "cell_type": "code",
   "execution_count": 14,
   "id": "99977efc",
   "metadata": {},
   "outputs": [],
   "source": [
    "def change_output(y):\n",
    "    output = np.array([])\n",
    "    \n",
    "    if y[0][0] == y[0].max():\n",
    "        output = np.array([0])\n",
    "    elif y[0][1] == y[0].max():\n",
    "        output = np.array([1])\n",
    "    elif y[0][2] == y[0].max():\n",
    "        output = np.array([2])\n",
    "    \n",
    "    i = 1\n",
    "    \n",
    "    while i < pred.size/3: \n",
    "        if y[i][0] == y[i].max():\n",
    "            output = np.append(output, np.array([0]), axis = 0)\n",
    "        elif y[i][1] == y[i].max():\n",
    "            output = np.append(output, np.array([1]), axis = 0)\n",
    "        elif y[i][2] == y[i].max():\n",
    "            output = np.append(output, np.array([2]), axis = 0)\n",
    "        i+=1 \n",
    "            \n",
    "    return output\n",
    "\n",
    "y_pred = change_output(pred)\n",
    "y_true = change_output(np_y_val)"
   ]
  },
  {
   "cell_type": "code",
   "execution_count": 15,
   "id": "dea19c55",
   "metadata": {},
   "outputs": [
    {
     "data": {
      "text/plain": [
       "0.20193333333333333"
      ]
     },
     "execution_count": 15,
     "metadata": {},
     "output_type": "execute_result"
    }
   ],
   "source": [
    "from sklearn.metrics import hamming_loss\n",
    "hamming_loss(y_true, y_pred)"
   ]
  },
  {
   "cell_type": "code",
   "execution_count": 16,
   "id": "df853fc5",
   "metadata": {},
   "outputs": [
    {
     "data": {
      "text/plain": [
       "0.9222156233333334"
      ]
     },
     "execution_count": 16,
     "metadata": {},
     "output_type": "execute_result"
    }
   ],
   "source": [
    "from sklearn.metrics import roc_auc_score\n",
    "roc_auc_score(np_y_val, pred)"
   ]
  },
  {
   "cell_type": "code",
   "execution_count": 17,
   "id": "f6856cf0",
   "metadata": {},
   "outputs": [
    {
     "data": {
      "text/plain": [
       "0.7980666666666667"
      ]
     },
     "execution_count": 17,
     "metadata": {},
     "output_type": "execute_result"
    }
   ],
   "source": [
    "from sklearn.metrics import accuracy_score\n",
    "accuracy_score(y_true, y_pred)"
   ]
  },
  {
   "cell_type": "code",
   "execution_count": 18,
   "id": "dd23b754",
   "metadata": {},
   "outputs": [
    {
     "data": {
      "text/plain": [
       "0.6830860219346594"
      ]
     },
     "execution_count": 18,
     "metadata": {},
     "output_type": "execute_result"
    }
   ],
   "source": [
    "from sklearn.metrics import jaccard_score\n",
    "jaccard_score(y_true, y_pred, average = \"weighted\")"
   ]
  },
  {
   "cell_type": "code",
   "execution_count": 19,
   "id": "fe4c0c70",
   "metadata": {},
   "outputs": [
    {
     "data": {
      "text/plain": [
       "0.79733784973623"
      ]
     },
     "execution_count": 19,
     "metadata": {},
     "output_type": "execute_result"
    }
   ],
   "source": [
    "from sklearn.metrics import f1_score\n",
    "f1_score(y_true, y_pred, average = \"weighted\")"
   ]
  },
  {
   "cell_type": "code",
   "execution_count": 20,
   "id": "fac23971",
   "metadata": {},
   "outputs": [
    {
     "data": {
      "text/plain": [
       "array([[3573, 1346,   81],\n",
       "       [1443, 3478,   79],\n",
       "       [  52,   28, 4920]], dtype=int64)"
      ]
     },
     "execution_count": 20,
     "metadata": {},
     "output_type": "execute_result"
    }
   ],
   "source": [
    "from sklearn.metrics import confusion_matrix\n",
    "confusion_matrix(y_true, y_pred, labels = [0, 1, 2])"
   ]
  },
  {
   "cell_type": "code",
   "execution_count": null,
   "id": "f9e341cf",
   "metadata": {},
   "outputs": [],
   "source": [
    "''"
   ]
  }
 ],
 "metadata": {
  "kernelspec": {
   "display_name": "gputest",
   "language": "python",
   "name": "gputest"
  },
  "language_info": {
   "codemirror_mode": {
    "name": "ipython",
    "version": 3
   },
   "file_extension": ".py",
   "mimetype": "text/x-python",
   "name": "python",
   "nbconvert_exporter": "python",
   "pygments_lexer": "ipython3",
   "version": "3.9.12"
  }
 },
 "nbformat": 4,
 "nbformat_minor": 5
}
