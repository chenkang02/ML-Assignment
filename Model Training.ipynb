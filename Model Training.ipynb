{
 "cells": [
  {
   "cell_type": "code",
   "execution_count": 3,
   "id": "c3a5b2e1",
   "metadata": {},
   "outputs": [],
   "source": [
    "import tensorflow as tf\n",
    "import numpy as np\n",
    "import pandas as pd\n",
    "import datetime"
   ]
  },
  {
   "cell_type": "code",
   "execution_count": 348,
   "id": "de37bbe9",
   "metadata": {},
   "outputs": [],
   "source": [
    "df = pd.read_csv(\"L:\\\\ML-Assignment\\\\training_data.csv\")"
   ]
  },
  {
   "cell_type": "code",
   "execution_count": 349,
   "id": "a341ec86",
   "metadata": {},
   "outputs": [],
   "source": [
    "splits = list(df.groupby(\"Sentiment Level\"))\n",
    "\n",
    "\n",
    "negative = splits[0][1]\n",
    "positive = splits[1][1]"
   ]
  },
  {
   "cell_type": "code",
   "execution_count": 350,
   "id": "9687221d",
   "metadata": {},
   "outputs": [],
   "source": [
    "import random as rand\n",
    "\n",
    "number = rand.randint(0,500000)\n",
    "positive = positive[number : number + 50000]\n",
    "\n",
    "number = rand.randint(0,500000)\n",
    "negative = negative[number: number + 50000]"
   ]
  },
  {
   "cell_type": "code",
   "execution_count": 351,
   "id": "b35dac19",
   "metadata": {},
   "outputs": [],
   "source": [
    "df_concat = pd.concat([positive, negative], axis = 0)"
   ]
  },
  {
   "cell_type": "code",
   "execution_count": 352,
   "id": "7c39e521",
   "metadata": {},
   "outputs": [],
   "source": [
    "df_concat = df_concat.sample(frac = 1)"
   ]
  },
  {
   "cell_type": "code",
   "execution_count": 353,
   "id": "442be708",
   "metadata": {},
   "outputs": [],
   "source": [
    "from sklearn.model_selection import train_test_split\n",
    "x_train, x_test, y_train, y_test = train_test_split(df_concat[\"joined_Tweet\"], df_concat[\"Sentiment Level\"], random_state = 0)"
   ]
  },
  {
   "cell_type": "code",
   "execution_count": 354,
   "id": "f82e00a1",
   "metadata": {},
   "outputs": [],
   "source": [
    "x_train = np.asarray(x_train.to_frame().to_numpy(dtype=np.string_)).astype(np.string_)\n",
    "x_test = np.asarray(x_test.to_frame().to_numpy(dtype=np.string_)).astype(np.string_)\n",
    "y_train = np.asarray(y_train.to_frame().to_numpy(dtype=np.string_).astype(np.string_))\n",
    "y_test = np.asarray(y_test.to_frame().to_numpy(dtype=np.string_).astype(np.string_))\n",
    "\n",
    "\n",
    "def create_label(y):\n",
    "    counter = 0\n",
    "    result = np.array([[]])\n",
    "    if y[0] == np.string_(\"0\"):\n",
    "        result = np.array([[1,0]])\n",
    "    elif y[0] == np.string_(\"4\"):\n",
    "        result = np.array([[0,1]])\n",
    "    \n",
    "    for i in y: \n",
    "        if counter > 0:\n",
    "            if i == np.string_(\"0\"):\n",
    "                result = np.append(result, np.array([[1,0]]), axis = 0)\n",
    "            elif i == np.string_(\"4\"):\n",
    "                result = np.append(result, np.array([[0,1]]), axis = 0)\n",
    "        counter+=1\n",
    "    \n",
    "\n",
    "    return result\n",
    "\n",
    "\n",
    "new_y_train = create_label(y_train)   \n",
    "new_y_test = create_label(y_test)\n",
    "\n",
    "                "
   ]
  },
  {
   "cell_type": "code",
   "execution_count": 4,
   "id": "98c3eefb",
   "metadata": {},
   "outputs": [],
   "source": [
    "from tensorflow.keras import Input\n",
    "from tensorflow.keras.models import Sequential, load_model \n",
    "from tensorflow.keras.layers import Dense, TextVectorization\n",
    "from sklearn.metrics import accuracy_score"
   ]
  },
  {
   "cell_type": "code",
   "execution_count": 197,
   "id": "5016387c",
   "metadata": {},
   "outputs": [],
   "source": [
    "MAX_LEN = 200\n",
    "MAX_FEATURES = 200000 \n"
   ]
  },
  {
   "cell_type": "code",
   "execution_count": 368,
   "id": "155db006",
   "metadata": {},
   "outputs": [
    {
     "name": "stdout",
     "output_type": "stream",
     "text": [
      "OK\n"
     ]
    }
   ],
   "source": [
    "model = Sequential(name = \"Nice_model\")\n",
    "model.add(Input(shape=(1,), dtype = tf.string))\n",
    "vectorize_layer = TextVectorization(split = \"whitespace\", \n",
    "                                    ngrams=(1,2),\n",
    "                                    output_mode = \"tf_idf\")\n",
    "\n",
    "vectorize_layer.adapt(np.asarray(df_concat[\"joined_Tweet\"].to_numpy(dtype=np.string_)).astype(np.string_))\n",
    "\n",
    "model.add(vectorize_layer)\n",
    "\n",
    "model.add(Dense(units = 128, activation = \"relu\", name = \"L1\"))\n",
    "model.add(Dense(units = 128, activation = \"relu\", name = \"L2\"))\n",
    "model.add(Dense(units = 128, activation = \"relu\", name = \"L3\"))\n",
    "model.add(Dense(units = 64, activation = \"relu\", name = \"L4\"))\n",
    "model.add(Dense(units = 2, activation = \"sigmoid\", name = \"Output\"))\n",
    "\n",
    "model.compile(loss=\"binary_crossentropy\", optimizer=\"rmsprop\", metrics = \"accuracy\")\n",
    "\n",
    "print(\"OK\")"
   ]
  },
  {
   "cell_type": "code",
   "execution_count": 369,
   "id": "74597c09",
   "metadata": {},
   "outputs": [
    {
     "name": "stdout",
     "output_type": "stream",
     "text": [
      "Model: \"Nice_model\"\n",
      "_________________________________________________________________\n",
      " Layer (type)                Output Shape              Param #   \n",
      "=================================================================\n",
      " text_vectorization_17 (Text  (None, 484946)           1         \n",
      " Vectorization)                                                  \n",
      "                                                                 \n",
      " L1 (Dense)                  (None, 128)               62073216  \n",
      "                                                                 \n",
      " L2 (Dense)                  (None, 128)               16512     \n",
      "                                                                 \n",
      " L3 (Dense)                  (None, 128)               16512     \n",
      "                                                                 \n",
      " L4 (Dense)                  (None, 64)                8256      \n",
      "                                                                 \n",
      " Output (Dense)              (None, 2)                 130       \n",
      "                                                                 \n",
      "=================================================================\n",
      "Total params: 62,114,627\n",
      "Trainable params: 62,114,626\n",
      "Non-trainable params: 1\n",
      "_________________________________________________________________\n"
     ]
    }
   ],
   "source": [
    "model.summary()"
   ]
  },
  {
   "cell_type": "code",
   "execution_count": null,
   "id": "161ea586",
   "metadata": {},
   "outputs": [],
   "source": [
    "score = model.evaluate(x_test, new_y_text)\n",
    "\n",
    "print(score[0])\n",
    "print(score[1])"
   ]
  },
  {
   "cell_type": "code",
   "execution_count": 373,
   "id": "06ea39fe",
   "metadata": {},
   "outputs": [
    {
     "name": "stdout",
     "output_type": "stream",
     "text": [
      "Epoch 1/5\n",
      "1500/1500 [==============================] - 912s 608ms/step - loss: 0.4643 - accuracy: 0.7892 - val_loss: 0.4478 - val_accuracy: 0.8005\n",
      "Epoch 2/5\n",
      "1500/1500 [==============================] - 817s 544ms/step - loss: 0.2894 - accuracy: 0.8879 - val_loss: 0.4888 - val_accuracy: 0.7947\n",
      "Epoch 3/5\n",
      "1500/1500 [==============================] - 827s 551ms/step - loss: 0.1394 - accuracy: 0.9544 - val_loss: 0.5938 - val_accuracy: 0.7895\n",
      "Epoch 4/5\n",
      "1500/1500 [==============================] - 831s 554ms/step - loss: 0.0707 - accuracy: 0.9794 - val_loss: 0.7775 - val_accuracy: 0.7835\n",
      "Epoch 5/5\n",
      "1500/1500 [==============================] - 811s 541ms/step - loss: 0.0495 - accuracy: 0.9860 - val_loss: 0.8972 - val_accuracy: 0.7750\n"
     ]
    },
    {
     "data": {
      "text/plain": [
       "<keras.callbacks.History at 0x209fc222ca0>"
      ]
     },
     "execution_count": 373,
     "metadata": {},
     "output_type": "execute_result"
    }
   ],
   "source": [
    "log_dir = \"L:\\\\ML-Assignment\\\\Logs\\\\Logs\" + datetime.datetime.now().strftime(\"%Y%m%d-%H%M%S\")\n",
    "tensorboard_callback = tf.keras.callbacks.TensorBoard(log_dir=log_dir, histogram freq = 1)\n",
    "\n",
    "model.fit(x_train, new_y_train,\n",
    "         epochs=5,\n",
    "         batch_size=50,\n",
    "         callbacks=[tensorboard_callback],\n",
    "         verbose = 1,\n",
    "         validation_data = (x_test, new_y_test))\n"
   ]
  },
  {
   "cell_type": "code",
   "execution_count": 374,
   "id": "ad4e56e7",
   "metadata": {},
   "outputs": [
    {
     "name": "stdout",
     "output_type": "stream",
     "text": [
      "The tensorboard extension is already loaded. To reload it, use:\n",
      "  %reload_ext tensorboard\n"
     ]
    },
    {
     "data": {
      "text/plain": [
       "Reusing TensorBoard on port 6006 (pid 25004), started 3:50:19 ago. (Use '!kill 25004' to kill it.)"
      ]
     },
     "metadata": {},
     "output_type": "display_data"
    },
    {
     "data": {
      "text/html": [
       "\n",
       "      <iframe id=\"tensorboard-frame-7789044336bc0171\" width=\"100%\" height=\"800\" frameborder=\"0\">\n",
       "      </iframe>\n",
       "      <script>\n",
       "        (function() {\n",
       "          const frame = document.getElementById(\"tensorboard-frame-7789044336bc0171\");\n",
       "          const url = new URL(\"/\", window.location);\n",
       "          const port = 6006;\n",
       "          if (port) {\n",
       "            url.port = port;\n",
       "          }\n",
       "          frame.src = url;\n",
       "        })();\n",
       "      </script>\n",
       "    "
      ],
      "text/plain": [
       "<IPython.core.display.HTML object>"
      ]
     },
     "metadata": {},
     "output_type": "display_data"
    }
   ],
   "source": [
    "%load_ext tensorboard\n",
    "%tensorboard --logdir logs/fit"
   ]
  },
  {
   "cell_type": "code",
   "execution_count": 1,
   "id": "0b8e3a57",
   "metadata": {},
   "outputs": [
    {
     "ename": "NameError",
     "evalue": "name 'model' is not defined",
     "output_type": "error",
     "traceback": [
      "\u001b[1;31m---------------------------------------------------------------------------\u001b[0m",
      "\u001b[1;31mNameError\u001b[0m                                 Traceback (most recent call last)",
      "Input \u001b[1;32mIn [1]\u001b[0m, in \u001b[0;36m<cell line: 2>\u001b[1;34m()\u001b[0m\n\u001b[0;32m      1\u001b[0m model_dir \u001b[38;5;241m=\u001b[39m \u001b[38;5;124m\"\u001b[39m\u001b[38;5;124mL:\u001b[39m\u001b[38;5;130;01m\\\\\u001b[39;00m\u001b[38;5;124mML-Assignment\u001b[39m\u001b[38;5;130;01m\\\\\u001b[39;00m\u001b[38;5;124mModel\u001b[39m\u001b[38;5;130;01m\\\\\u001b[39;00m\u001b[38;5;124mModel_02\u001b[39m\u001b[38;5;124m\"\u001b[39m\n\u001b[1;32m----> 2\u001b[0m \u001b[43mmodel\u001b[49m\u001b[38;5;241m.\u001b[39msave(model_dir)\n",
      "\u001b[1;31mNameError\u001b[0m: name 'model' is not defined"
     ]
    }
   ],
   "source": [
    "model_dir = \"L:\\\\ML-Assignment\\\\Model\\\\Model_02\"\n",
    "model.save(model_dir)"
   ]
  },
  {
   "cell_type": "code",
   "execution_count": 376,
   "id": "3cd38603",
   "metadata": {},
   "outputs": [],
   "source": [
    "del model"
   ]
  },
  {
   "cell_type": "code",
   "execution_count": 5,
   "id": "3d900c33",
   "metadata": {},
   "outputs": [
    {
     "name": "stdout",
     "output_type": "stream",
     "text": [
      "Loaded\n"
     ]
    }
   ],
   "source": [
    "model = load_model(model_dir)\n",
    "\n",
    "print(\"Loaded\")"
   ]
  },
  {
   "cell_type": "code",
   "execution_count": 272,
   "id": "bdda9465",
   "metadata": {},
   "outputs": [
    {
     "name": "stdout",
     "output_type": "stream",
     "text": [
      "[1 0]\n",
      "[b'awesome see speaking WordCampNOLA Wish I lived closer']\n"
     ]
    }
   ],
   "source": [
    "print(new_y_train[6])\n",
    "print(x_train[6])"
   ]
  },
  {
   "cell_type": "code",
   "execution_count": 6,
   "id": "52628381",
   "metadata": {},
   "outputs": [],
   "source": [
    "import contractions\n",
    "import re\n",
    "from nltk.tokenize import word_tokenize\n",
    "from nltk.corpus import stopwords\n",
    "import numpy as np \n",
    "\n",
    "stopwords = set(stopwords.words('english'))\n",
    "\n",
    "def predict(model, input, stopword = stopwords):\n",
    "    input = input.lower()\n",
    "    input = re.sub(\"@[^\\s]+\", \"\", input)\n",
    "    input = re.sub('r[^\\w\\s]+', \"\", input)\n",
    "    input = input.split(\" \")\n",
    "    \n",
    "    \n",
    "    emoji = re.compile(\"[\"\n",
    "    u\"\\U0001F600-\\U0001F64F\"  # emoticons\n",
    "    u\"\\U0001F300-\\U0001F5FF\"  # symbols & pictographs\n",
    "    u\"\\U0001F680-\\U0001F6FF\"  # transport & map symbols\n",
    "    u\"\\U0001F1E0-\\U0001F1FF\"  # flags (iOS)\n",
    "    u\"\\U00002500-\\U00002BEF\"  # chinese char\n",
    "    u\"\\U00002702-\\U000027B0\"\n",
    "    u\"\\U00002702-\\U000027B0\"\n",
    "    u\"\\U000024C2-\\U0001F251\"\n",
    "    u\"\\U0001f926-\\U0001f937\"\n",
    "    u\"\\U00010000-\\U0010ffff\"\n",
    "    u\"\\u2640-\\u2642\" \n",
    "    u\"\\u2600-\\u2B55\"\n",
    "    u\"\\u200d\"\n",
    "    u\"\\u23cf\"\n",
    "    u\"\\u23e9\"\n",
    "    u\"\\u231a\"\n",
    "    u\"\\ufe0f\"  # dingbats\n",
    "    u\"\\u3030\"\n",
    "    \"]+\", re.UNICODE)\n",
    "    \n",
    "    input = [re.sub(emoji,\"\",x) for x in input]\n",
    "    input = [x.encode(\"ascii\",\"ignore\").decode() for x in input]\n",
    "    input = [contractions.fix(x) for x in input]\n",
    "    input = ' '.join(map(str, input))\n",
    "    input = word_tokenize(input, language = 'english')\n",
    "    #input = [x for x in input if x not in stopwords]\n",
    "    input = [x for x in input if not x.isdigit()]\n",
    "    input = ' '.join(map(str, input))\n",
    "    filtered_text = input\n",
    "    \n",
    "    x_input = np.array([input], dtype = np.string_)\n",
    "    y = model.predict(x_input)\n",
    "    result = \"\"\n",
    "    \n",
    "    if y[0][0] == y[0].max():\n",
    "        result = \"Depression Detected\"\n",
    "    elif y[0][1] == y[0].max():\n",
    "        result = \"No Depression\"\n",
    "        \n",
    "    return (result, y, filtered_text)\n",
    "\n",
    "\n"
   ]
  },
  {
   "cell_type": "code",
   "execution_count": null,
   "id": "4a5e6fba",
   "metadata": {},
   "outputs": [
    {
     "name": "stdout",
     "output_type": "stream",
     "text": [
      "Enter Text: i had a biology class today and i cried the soul out of me hey. as the title says, today i had a biology class about miscarriages and stuff. now this wouldn't be so bad if it weren't for the fact that yesterday i was told that my dad's wife had not one but two miscarriages, one being before my brother was born (my brother is a rainbow baby) and the other one last friday. i felt like shit when i was told this, and this fucking class made it even worse. i excused myself, went to the bathroom and cried for like 20 minutes.  my little brother is only 4 and he doesn't like me. i was hoping they'd have another baby that would be nicer, but now it's dead. if its any use for anyone, both fetuses died at 2 months. edit: my brother is actually my step-brother  might not seem like a big deal to some people but here i am\n",
      "1/1 [==============================] - 0s 146ms/step\n",
      "Filtered Text: i had a biology class today and i cried the soul out of me hey . as the title says , today i had a biology class about miscarriages and stuff . now this would not be so bad if it were not for the fact that yesterday i was told that my dad 's wife had not one but two miscarriages , one being before my brother was born ( my brother is a rainbow baby ) and the other one last friday . i felt like shit when i was told this , and this fucking class made it even worse . i excused myself , went to the bathroom and cried for like minutes . my little brother is only and he does not like me . i was hoping they would have another baby that would be nice but now it is dead . if its any use for anyone , both fetuses died at months . edit : my brother is actually my step-brother might not seem like a big deal to some people but here i am\n",
      "Model Result: Depression Detected\n",
      "Depression Detected:  1.0\n",
      "No Depression:  2.7903888e-10\n",
      "Enter Text: By who? Where are they hiding?  I hate people who try to be supportive only in words and not action.\n",
      "1/1 [==============================] - 0s 37ms/step\n",
      "Filtered Text: by who ? where are they hiding ? i hate people who try to be supportive only in words and not action .\n",
      "Model Result: No Depression\n",
      "Depression Detected:  0.0076683597\n",
      "No Depression:  0.99228734\n",
      "Enter Text: i have been scrolling through the “crush” subreddit and im only feeling one emotion : envy  many of us probably never got the blessing (or curse) of having a crush that liked u back and im here to tell you, SCREW THEM. hahaha yeah they dont like u but i do! ur self worth isnt dependant on someone, ur happiness and comfort isnt dependant on someone and that my friend makes u better than everyone! (not really, we single people are just salty people HAHAHAH we are all better than everyone)  and hey guess what, i gotta crush on you. and trust me i have many pick up lines up my sleeves sooo would u go to prom with me HAHAHAH am i late? i hope not 💍\n",
      "1/1 [==============================] - 0s 36ms/step\n",
      "Filtered Text: i have been scrolling through the crush subreddit and i am only feeling one emotion : envy many of us probably never got the blessing ( or curse ) of having a crush that liked you back and i am here to tell you , screw them . hahaha yeah they do not like you but i do ! you are self worth is not dependant on someone , you are happiness and comfort is not dependant on someone and that my friend makes you better than everyone ! ( not really , we single people are just salty people hahahah we are all better than everyone ) and hey guess what , i got to crush on you . and trust me i have many pick up lines up my sleeves sooo would you go to prom with me hahahah am i late ? i hope not\n",
      "Model Result: No Depression\n",
      "Depression Detected:  2.2568785e-05\n",
      "No Depression:  0.9999754\n",
      "Enter Text: my dog died this morning and i don’t know what to do anymore. i’ve had him for my whole life. he was my everything and now he’s gone. i just can’t process this. i don’t want it to be real. i hate this. i hate everything. i don’t wanna do this anymore i’m so tired i hate it\n",
      "1/1 [==============================] - 0s 35ms/step\n",
      "Filtered Text: my dog died this morning and i do not know what to do anymore . i have had him for my whole life . he was my everything and now hes gone . i just can not process this . i do not want it to be real . i hate this . i hate everything . i do not want to do this anymore i am so tired i hate it\n",
      "Model Result: Depression Detected\n",
      "Depression Detected:  0.9999997\n",
      "No Depression:  1.05479735e-07\n",
      "Enter Text: i feel this way i remember my poor choices i try to ignore it but i always blamed on me it just makes me sad that i didn’t achieve the things i always dream about now i don t dream i can t even think straight nothing gives pleasure i don t feel any sort of gratification from doing daily things The traumas changed the person i am today i always think what could i had been if this or that didn’t happen…  looking back my life has been a constant battle and i messed my brain from ssris benzodiezepines etc in my early teens.. and had brain fog and memory problems now i think il never be the same creative extroverted smart kid beacause of the effects os ssri and stress and traumas  And it hurts knowing that i had so much to offer like being smart creative and all that and not using my gifts like i should now im currently unemployed dropout of high school without any diploma and i always blame the past and my academic personal life failure.  Every day i wake up and feel like im little bit closer of being a normie than yesterday..  And honestly it hurts watching my parents seeing the kid that i was and always praising me from my good qualities and now being where i am now in life that i achieve less things than 90% of the people at my age  Im 19 years old\n",
      "1/1 [==============================] - 0s 36ms/step\n",
      "Filtered Text: i feel this way i remember my poor choices i try to ignore it but i always blamed on me it just makes me sad that i did not achieve the things i always dream about now i don t dream i can t even think straight nothing gives pleasure i don t feel any sort of gratification from doing daily things the traumas changed the person i am today i always think what could i had been if this or that did not happen looking back my life has been a constant battle and i messed my brain from ssris benzodiezepines etc in my early teens .. and had brain fog and memory problems now i think il never be the same creative extroverted smart kid beacause of the effects os ssri and stress and traumas and it hurts knowing that i had so much to offer like being smart creative and all that and not using my gifts like i should now i am currently unemployed dropout of high school without any diploma and i always blame the past and my academic personal life failure . every day i wake up and feel like i am little bit closer of being a normie than yesterday .. and honestly it hurts watching my parents seeing the kid that i was and always praising me from my good qualities and now being where i am now in life that i achieve less things than % of the people at my age i am years old\n",
      "Model Result: Depression Detected\n",
      "Depression Detected:  0.99999994\n",
      "No Depression:  1.1533286e-08\n",
      "Enter Text: poor\n",
      "1/1 [==============================] - 0s 35ms/step\n",
      "Filtered Text: poor\n",
      "Model Result: Depression Detected\n",
      "Depression Detected:  0.7555662\n",
      "No Depression:  0.1952461\n",
      "Enter Text: shoutout to autism for ruining any and all chances of me having a normal life\n",
      "1/1 [==============================] - 0s 38ms/step\n",
      "Filtered Text: shoutout to autism for ruining any and all chances of me having a normal life\n",
      "Model Result: No Depression\n",
      "Depression Detected:  0.10575787\n",
      "No Depression:  0.89965034\n",
      "Enter Text: My boyfriends mom killed herself and she was an amazing person i loved her alot (my own mom and i dont have a good relationship) So it was nice to have a motherly figure who understood me. She killed herself and left several notes. She explained that she felt like nobody listened because she was ‘dumb’ which she wasnt. She also said she felt like the odd one out since she can remember. She was on antidepressants and she showed no signs of doing something like this anytime soon. Anyways ive struggled with suicidal thoughts and depression since i was 13 so i related to her and what she wrote. Only i related so much i feel like she was maybe the only person who described this feeling ive had for so long. This made me feel like there is no getting better for someone like me. I feel like this is exactly my faith She had 3 kids one of em being 10 yrs. Even children didnt keep her going. I feel like im going to end up exactly the same way as her. So ive decided i wont be having kids since saw and expierenced what it does when kids lose a mom.\n"
     ]
    },
    {
     "name": "stdout",
     "output_type": "stream",
     "text": [
      "1/1 [==============================] - 0s 35ms/step\n",
      "Filtered Text: my boyfriends mom killed herself and she was an amazing person i loved her alot ( my own mom and i do not have a good relationship ) so it was nice to have a motherly figure who understood me . she killed herself and left several notes . she explained that she felt like nobody listened because she was dumb which she was not . she also said she felt like the odd one out since she can remembe she was on antidepressants and she showed no signs of doing something like this anytime soon . anyways i have struggled with suicidal thoughts and depression since i was so i related to her and what she wrote . only i related so much i feel like she was maybe the only person who described this feeling i have had for so long . this made me feel like there is no getting better for someone like me . i feel like this is exactly my faith she had kids one of them being yrs . even children did not keep her going . i feel like i am going to end up exactly the same way as he so i have decided i will not be having kids since saw and expierenced what it does when kids lose a mom .\n",
      "Model Result: No Depression\n",
      "Depression Detected:  0.00097647967\n",
      "No Depression:  0.9995989\n",
      "Enter Text: It sounds really stupid I think. It feels also really dumb. But the main reason why I become depressed seems to be that I do not have the partner. Of cours there are also other reasons why I might get depressed but I observed that a constant and main reason is the lack of my partner. It comes periodically every few days or if I am reminded that other ppl have found their partner and I don't. In both cases self-hatred is triggered which makes it much worse (at times I even selfeharmed because of it). When the sadness comes out of nowhere it is often linked with a sort of emptiness, boredom and senslessness. It feels like there is no point in dragging me through those adversities called life, if at the end of the day there is not this one special person waiting for me. In addition my stupid brain decided that it would be a good idea to have a crush on a person who I have barely seen more than a few times from far away. It even came to my mind that it would be a good idea to approach this person in public and ask for their phonenumber. Really really dumb and I am glad that I did not do it. But the longing and the crush still remain.\n",
      "1/1 [==============================] - 0s 35ms/step\n",
      "Filtered Text: it sounds really stupid i think . it feels also really dumb . but the main reason why i become depressed seems to be that i do not have the partne of cours there are also other reasons why i might get depressed but i observed that a constant and main reason is the lack of my partne it comes periodically every few days or if i am reminded that other people have found their partner and i do not . in both cases self-hatred is triggered which makes it much worse ( at times i even selfeharmed because of it ) . when the sadness comes out of nowhere it is often linked with a sort of emptiness , boredom and senslessness . it feels like there is no point in dragging me through those adversities called life , if at the end of the day there is not this one special person waiting for me . in addition my stupid brain decided that it would be a good idea to have a crush on a person who i have barely seen more than a few times from far away . it even came to my mind that it would be a good idea to approach this person in public and ask for their phonenumbe really really dumb and i am glad that i did not do it . but the longing and the crush still remain .\n",
      "Model Result: Depression Detected\n",
      "Depression Detected:  1.0\n",
      "No Depression:  1.3053286e-11\n",
      "Enter Text: depress\n",
      "1/1 [==============================] - 0s 40ms/step\n",
      "Filtered Text: depress\n",
      "Model Result: No Depression\n",
      "Depression Detected:  0.33513793\n",
      "No Depression:  0.65106565\n",
      "Enter Text: depressed\n",
      "1/1 [==============================] - 0s 35ms/step\n",
      "Filtered Text: depressed\n",
      "Model Result: Depression Detected\n",
      "Depression Detected:  0.9648974\n",
      "No Depression:  0.026380522\n",
      "Enter Text: im a little teapot\n",
      "1/1 [==============================] - 0s 34ms/step\n",
      "Filtered Text: i am a little teapot\n",
      "Model Result: No Depression\n",
      "Depression Detected:  0.46037427\n",
      "No Depression:  0.51410764\n",
      "Enter Text: short and stout\n",
      "1/1 [==============================] - 0s 35ms/step\n",
      "Filtered Text: short and stout\n",
      "Model Result: No Depression\n",
      "Depression Detected:  0.091660306\n",
      "No Depression:  0.90588087\n"
     ]
    }
   ],
   "source": [
    "while True: \n",
    "    x = input(\"Enter Text: \")\n",
    "    \n",
    "    if x == \"exit\":\n",
    "        break\n",
    "    \n",
    "    y = predict(model, x)\n",
    "    print(\"Filtered Text: \" + y[2])\n",
    "    print(\"Model Result: \" + y[0])\n",
    "    print(\"Depression Detected: \", y[1][0][0])\n",
    "    print(\"No Depression: \", y[1][0][1])\n",
    "    \n",
    "print(\"Completed.\")"
   ]
  },
  {
   "cell_type": "code",
   "execution_count": null,
   "id": "8d1d75b0",
   "metadata": {},
   "outputs": [],
   "source": []
  },
  {
   "cell_type": "code",
   "execution_count": null,
   "id": "d5eb4db2",
   "metadata": {},
   "outputs": [],
   "source": []
  }
 ],
 "metadata": {
  "kernelspec": {
   "display_name": "Python 3 (ipykernel)",
   "language": "python",
   "name": "python3"
  },
  "language_info": {
   "codemirror_mode": {
    "name": "ipython",
    "version": 3
   },
   "file_extension": ".py",
   "mimetype": "text/x-python",
   "name": "python",
   "nbconvert_exporter": "python",
   "pygments_lexer": "ipython3",
   "version": "3.9.5"
  }
 },
 "nbformat": 4,
 "nbformat_minor": 5
}
